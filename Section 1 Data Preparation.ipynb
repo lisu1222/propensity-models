{
 "cells": [
  {
   "cell_type": "code",
   "execution_count": 45,
   "metadata": {},
   "outputs": [
    {
     "name": "stdout",
     "output_type": "stream",
     "text": [
      "Libraries imported!\n"
     ]
    }
   ],
   "source": [
    "import pandas as pd\n",
    "import numpy as np\n",
    "import matplotlib.pyplot as plt\n",
    "%matplotlib inline\n",
    "import tldextract\n",
    "import seaborn as sns\n",
    "import gender_guesser.detector as gender\n",
    "import os\n",
    "\n",
    "import wordcloud\n",
    "from wordcloud import WordCloud, STOPWORDS\n",
    "from collections import Counter\n",
    "\n",
    "from sklearn.feature_extraction.text import CountVectorizer\n",
    "from sklearn.feature_extraction.text import TfidfTransformer\n",
    "\n",
    "from sklearn.linear_model import LogisticRegression\n",
    "from sklearn.model_selection import train_test_split\n",
    "\n",
    "from sklearn import metrics\n",
    "from sklearn.metrics import accuracy_score\n",
    "\n",
    "import warnings\n",
    "warnings.filterwarnings('ignore')\n",
    "\n",
    "print('Libraries imported!')"
   ]
  },
  {
   "cell_type": "code",
   "execution_count": 2,
   "metadata": {},
   "outputs": [
    {
     "name": "stdout",
     "output_type": "stream",
     "text": [
      "(3075031, 17)\n"
     ]
    }
   ],
   "source": [
    "act_173=pd.read_csv('173.csv')\n",
    "print(act_173.shape)"
   ]
  },
  {
   "cell_type": "markdown",
   "metadata": {},
   "source": [
    "# Part 1: Data Clean"
   ]
  },
  {
   "cell_type": "markdown",
   "metadata": {},
   "source": [
    "### 1.1. Add one column 'ScrollDepth_count' (0/1). \n",
    "\n",
    "* 0: If there is NaN for ScrollDepth\n",
    "* 1 if there is any number for ScrollDepth."
   ]
  },
  {
   "cell_type": "code",
   "execution_count": 3,
   "metadata": {
    "scrolled": false
   },
   "outputs": [
    {
     "data": {
      "text/plain": [
       "infinity_id           0\n",
       "InfinityID            0\n",
       "UUID                240\n",
       "Brand                 0\n",
       "Channel          124354\n",
       "PageURL           12422\n",
       "Author          1273826\n",
       "Category              0\n",
       "ArticleTitle     252910\n",
       "Location         151583\n",
       "Country            4454\n",
       "HalTopics       3075031\n",
       "HalKeyword       691468\n",
       "RefererURL        34594\n",
       "ScrollDepth     1962702\n",
       "Browser               4\n",
       "SessionID        562218\n",
       "dtype: int64"
      ]
     },
     "execution_count": 3,
     "metadata": {},
     "output_type": "execute_result"
    }
   ],
   "source": [
    "act_173.isnull().sum()"
   ]
  },
  {
   "cell_type": "markdown",
   "metadata": {},
   "source": [
    "Drop unuseful columns"
   ]
  },
  {
   "cell_type": "code",
   "execution_count": 4,
   "metadata": {},
   "outputs": [],
   "source": [
    "act_173.drop(['HalTopics','SessionID','PageURL','infinity_id'], axis = 1, inplace = True)"
   ]
  },
  {
   "cell_type": "code",
   "execution_count": 5,
   "metadata": {
    "scrolled": true
   },
   "outputs": [
    {
     "data": {
      "text/plain": [
       "0    1962977\n",
       "1    1112054\n",
       "Name: ScrollDepth_count, dtype: int64"
      ]
     },
     "execution_count": 5,
     "metadata": {},
     "output_type": "execute_result"
    }
   ],
   "source": [
    "act_173['ScrollDepth_count'] = 0\n",
    "act_173.loc[act_173.ScrollDepth>0, 'ScrollDepth_count']=1\n",
    "#result\n",
    "act_173['ScrollDepth_count'].value_counts()"
   ]
  },
  {
   "cell_type": "markdown",
   "metadata": {},
   "source": [
    "### 1.2. Add a new column called 'Referer', keeping only the company/brand information of  RefererURL. \n",
    "For example, if the RefererURL is https://www.google.com/, we only keep google in the Refer column."
   ]
  },
  {
   "cell_type": "code",
   "execution_count": 6,
   "metadata": {},
   "outputs": [],
   "source": [
    "#replace NaN with 'unknown'\n",
    "act_173[\"RefererURL\"] = act_173.RefererURL.fillna('unkown')\n",
    "#convert to string type\n",
    "act_173['RefererURL'] = act_173['RefererURL'].astype(str)\n",
    "#replace // to blank \n",
    "act_173['RefererURL']= act_173[\"RefererURL\"].apply(lambda x: \"\" if x==\"//\" else x)\n",
    "#deal with abnormal format 'adroid_app...'\n",
    "act_173['RefererURL'] = act_173['RefererURL'].apply(lambda x: 'android_app' if 'android-app'in x else x)\n",
    "#extract domain using tldextract package\n",
    "act_173['Referer'] = act_173['RefererURL'].apply(lambda x: tldextract.extract(x).domain if 'http' in x else x)\n",
    "#drop referel url\n",
    "act_173.drop('RefererURL', axis= 1,inplace=True)"
   ]
  },
  {
   "cell_type": "markdown",
   "metadata": {},
   "source": [
    "### 1.3. Transform Channel to lower case"
   ]
  },
  {
   "cell_type": "code",
   "execution_count": 7,
   "metadata": {},
   "outputs": [],
   "source": [
    "act_173.Channel = act_173.Channel.fillna('unkown')\n",
    "act_173['Channel'] = act_173['Channel'].apply(lambda x: x.lower())"
   ]
  },
  {
   "cell_type": "markdown",
   "metadata": {},
   "source": [
    "### 1.4. Fill in missing values for Country, Location,Channel, ArticleTitle and HalKeyword"
   ]
  },
  {
   "cell_type": "code",
   "execution_count": 8,
   "metadata": {},
   "outputs": [],
   "source": [
    "act_173['Country'].fillna('United States', inplace=True)\n",
    "act_173['Location'].fillna('unknown',inplace=True)\n",
    "act_173['Channel'].fillna('unknown',inplace=True)\n",
    "act_173['HalKeyword'].fillna('', inplace =True)\n",
    "act_173['ArticleTitle'].fillna('',inplace=True)\n",
    "act_173.UUID.fillna('', inplace=True)"
   ]
  },
  {
   "cell_type": "markdown",
   "metadata": {},
   "source": [
    "### 1.5. Add new column \"first author\""
   ]
  },
  {
   "cell_type": "code",
   "execution_count": 9,
   "metadata": {},
   "outputs": [],
   "source": [
    "act_173['Author'] = act_173['Author'].fillna('[]')\n",
    "act_173.Author = act_173.Author.apply(lambda x:x.lower())\n",
    "act_173['Author'] = act_173['Author'].map(lambda x: x.lstrip('[').rstrip(']'))\n",
    "newDF = act_173['Author'].str.split(',',3,True)\n",
    "newDF.columns = ['Author1', 'Author2','Author3','Author4']"
   ]
  },
  {
   "cell_type": "code",
   "execution_count": 10,
   "metadata": {},
   "outputs": [],
   "source": [
    "act_173_new = pd.concat([act_173,newDF],axis=1,ignore_index=False)\n",
    "act_173_new.drop(['Author2','Author3','Author4'],axis = 1,inplace = True)"
   ]
  },
  {
   "cell_type": "code",
   "execution_count": 11,
   "metadata": {},
   "outputs": [
    {
     "data": {
      "text/plain": [
       "InfinityID                 0\n",
       "UUID                       0\n",
       "Brand                      0\n",
       "Channel                    0\n",
       "Author                     0\n",
       "Category                   0\n",
       "ArticleTitle               0\n",
       "Location                   0\n",
       "Country                    0\n",
       "HalKeyword                 0\n",
       "ScrollDepth          1962702\n",
       "Browser                    4\n",
       "ScrollDepth_count          0\n",
       "Referer                    0\n",
       "Author1                    0\n",
       "dtype: int64"
      ]
     },
     "execution_count": 11,
     "metadata": {},
     "output_type": "execute_result"
    }
   ],
   "source": [
    "act_173_new.isnull().sum()"
   ]
  },
  {
   "cell_type": "markdown",
   "metadata": {},
   "source": [
    "### 1.6. Add new column \"gender\" , showing gender information of first author (newly added)"
   ]
  },
  {
   "cell_type": "code",
   "execution_count": 12,
   "metadata": {},
   "outputs": [],
   "source": [
    "d = gender.Detector()"
   ]
  },
  {
   "cell_type": "code",
   "execution_count": 13,
   "metadata": {},
   "outputs": [],
   "source": [
    "author_gender=[]\n",
    "for i in act_173_new['Author1']:\n",
    "    i= i.split()\n",
    "    if len(i)>1:\n",
    "        first_name= i[0].lstrip(\"'\")\n",
    "        ag = d.get_gender(first_name.capitalize())\n",
    "        author_gender.append(ag)\n",
    "    else:\n",
    "        author_gender.append('unknown')\n",
    "\n",
    "act_173_new['gender']=author_gender"
   ]
  },
  {
   "cell_type": "code",
   "execution_count": 14,
   "metadata": {},
   "outputs": [
    {
     "data": {
      "text/plain": [
       "unknown          1533596\n",
       "female            869047\n",
       "male              416896\n",
       "mostly_female     168321\n",
       "mostly_male        45479\n",
       "andy               41692\n",
       "Name: gender, dtype: int64"
      ]
     },
     "execution_count": 14,
     "metadata": {},
     "output_type": "execute_result"
    }
   ],
   "source": [
    "act_173_new[\"gender\"].value_counts()"
   ]
  },
  {
   "cell_type": "markdown",
   "metadata": {},
   "source": [
    "Chi-square test for gender and scrolldepth_count"
   ]
  },
  {
   "cell_type": "code",
   "execution_count": 15,
   "metadata": {},
   "outputs": [
    {
     "data": {
      "text/html": [
       "<div>\n",
       "<style scoped>\n",
       "    .dataframe tbody tr th:only-of-type {\n",
       "        vertical-align: middle;\n",
       "    }\n",
       "\n",
       "    .dataframe tbody tr th {\n",
       "        vertical-align: top;\n",
       "    }\n",
       "\n",
       "    .dataframe thead th {\n",
       "        text-align: right;\n",
       "    }\n",
       "</style>\n",
       "<table border=\"1\" class=\"dataframe\">\n",
       "  <thead>\n",
       "    <tr style=\"text-align: right;\">\n",
       "      <th>ScrollDepth_count</th>\n",
       "      <th>0</th>\n",
       "      <th>1</th>\n",
       "    </tr>\n",
       "    <tr>\n",
       "      <th>gender</th>\n",
       "      <th></th>\n",
       "      <th></th>\n",
       "    </tr>\n",
       "  </thead>\n",
       "  <tbody>\n",
       "    <tr>\n",
       "      <th>andy</th>\n",
       "      <td>18569</td>\n",
       "      <td>23123</td>\n",
       "    </tr>\n",
       "    <tr>\n",
       "      <th>female</th>\n",
       "      <td>417875</td>\n",
       "      <td>451172</td>\n",
       "    </tr>\n",
       "    <tr>\n",
       "      <th>male</th>\n",
       "      <td>231466</td>\n",
       "      <td>185430</td>\n",
       "    </tr>\n",
       "    <tr>\n",
       "      <th>mostly_female</th>\n",
       "      <td>75615</td>\n",
       "      <td>92706</td>\n",
       "    </tr>\n",
       "    <tr>\n",
       "      <th>mostly_male</th>\n",
       "      <td>28771</td>\n",
       "      <td>16708</td>\n",
       "    </tr>\n",
       "  </tbody>\n",
       "</table>\n",
       "</div>"
      ],
      "text/plain": [
       "ScrollDepth_count       0       1\n",
       "gender                           \n",
       "andy                18569   23123\n",
       "female             417875  451172\n",
       "male               231466  185430\n",
       "mostly_female       75615   92706\n",
       "mostly_male         28771   16708"
      ]
     },
     "execution_count": 15,
     "metadata": {},
     "output_type": "execute_result"
    }
   ],
   "source": [
    "contingency_table= pd.crosstab(act_173_new['gender'],act_173_new['ScrollDepth_count'])\n",
    "contingency_table= contingency_table[0:5] #exclude unknown\n",
    "contingency_table"
   ]
  },
  {
   "cell_type": "code",
   "execution_count": 16,
   "metadata": {},
   "outputs": [
    {
     "data": {
      "text/plain": [
       "array([[ 18569,  23123],\n",
       "       [417875, 451172],\n",
       "       [231466, 185430],\n",
       "       [ 75615,  92706],\n",
       "       [ 28771,  16708]], dtype=int64)"
      ]
     },
     "execution_count": 16,
     "metadata": {},
     "output_type": "execute_result"
    }
   ],
   "source": [
    "contingency_table.values"
   ]
  },
  {
   "cell_type": "code",
   "execution_count": 17,
   "metadata": {},
   "outputs": [
    {
     "name": "stdout",
     "output_type": "stream",
     "text": [
      "dof=4\n",
      "[[ 20888.69451647  20803.30548353]\n",
      " [435413.44390908 433633.55609092]\n",
      " [208874.92058763 208021.07941237]\n",
      " [ 84332.86840898  83988.13159102]\n",
      " [ 22786.07257783  22692.92742217]]\n"
     ]
    }
   ],
   "source": [
    "from scipy.stats import chi2_contingency\n",
    "from scipy.stats import chi2\n",
    "stat, p, dof, expected = chi2_contingency(contingency_table)\n",
    "print('dof=%d' % dof)\n",
    "print(expected)"
   ]
  },
  {
   "cell_type": "code",
   "execution_count": 18,
   "metadata": {},
   "outputs": [
    {
     "name": "stdout",
     "output_type": "stream",
     "text": [
      "probability=0.950, critical=9.488, stat=11785.341\n",
      "Dependent, reject H0\n"
     ]
    }
   ],
   "source": [
    "prob = 0.95\n",
    "critical = chi2.ppf(prob, dof)\n",
    "print('probability=%.3f, critical=%.3f, stat=%.3f' % (prob, critical, stat))\n",
    "if abs(stat) >= critical:\n",
    "    print('Dependent, reject H0')\n",
    "else:\n",
    "    print('Independent, fail to reject H0')"
   ]
  },
  {
   "cell_type": "code",
   "execution_count": 19,
   "metadata": {},
   "outputs": [
    {
     "name": "stdout",
     "output_type": "stream",
     "text": [
      "significance=0.050, p=0.000\n",
      "Dependent, reject H0\n"
     ]
    }
   ],
   "source": [
    "# interpret p-value\n",
    "alpha = 1.0 - prob\n",
    "print('significance=%.3f, p=%.3f' % (alpha, p))\n",
    "if p <= alpha:\n",
    "    print('Dependent, reject H0')\n",
    "else:\n",
    "    print('Independent, fail to reject H0')"
   ]
  },
  {
   "cell_type": "code",
   "execution_count": 20,
   "metadata": {},
   "outputs": [
    {
     "data": {
      "text/plain": [
       "gender\n",
       "andy             55.461479\n",
       "female           51.915719\n",
       "male             44.478719\n",
       "mostly_female    55.076907\n",
       "mostly_male      36.737835\n",
       "dtype: float64"
      ]
     },
     "execution_count": 20,
     "metadata": {},
     "output_type": "execute_result"
    }
   ],
   "source": [
    "contingency_table[1]/(contingency_table[0]+contingency_table[1])*100"
   ]
  },
  {
   "cell_type": "markdown",
   "metadata": {},
   "source": [
    "#### Conclusion: \n",
    "* We reject the null hypothesis at the 1% significance level\n",
    "* We infer that in the population, whether people click or not do differ by the gender of the authors.\n",
    "* Article written by female(/mostly female) writers are more likely to be clicked than male(or mostly male). This also means that we can include gender information in modeling when predicting click or not.\n",
    "\n",
    "### 1.7 Delete scroll depth < 0"
   ]
  },
  {
   "cell_type": "code",
   "execution_count": 21,
   "metadata": {},
   "outputs": [],
   "source": [
    "act_173_new['ScrollDepth'] = act_173_new['ScrollDepth'].fillna(0)"
   ]
  },
  {
   "cell_type": "code",
   "execution_count": 22,
   "metadata": {},
   "outputs": [],
   "source": [
    "act_173_new = act_173_new[act_173_new['ScrollDepth']>=0]"
   ]
  },
  {
   "cell_type": "code",
   "execution_count": 23,
   "metadata": {},
   "outputs": [
    {
     "data": {
      "text/plain": [
       "3074756"
      ]
     },
     "execution_count": 23,
     "metadata": {},
     "output_type": "execute_result"
    }
   ],
   "source": [
    "len(act_173_new)"
   ]
  },
  {
   "cell_type": "markdown",
   "metadata": {},
   "source": [
    "#### Now we have a clean set for analysis:"
   ]
  },
  {
   "cell_type": "code",
   "execution_count": 24,
   "metadata": {},
   "outputs": [
    {
     "data": {
      "text/plain": [
       "InfinityID           0\n",
       "UUID                 0\n",
       "Brand                0\n",
       "Channel              0\n",
       "Author               0\n",
       "Category             0\n",
       "ArticleTitle         0\n",
       "Location             0\n",
       "Country              0\n",
       "HalKeyword           0\n",
       "ScrollDepth          0\n",
       "Browser              4\n",
       "ScrollDepth_count    0\n",
       "Referer              0\n",
       "Author1              0\n",
       "gender               0\n",
       "dtype: int64"
      ]
     },
     "execution_count": 24,
     "metadata": {},
     "output_type": "execute_result"
    }
   ],
   "source": [
    "act_173_new.isnull().sum()"
   ]
  },
  {
   "cell_type": "markdown",
   "metadata": {},
   "source": [
    "# Part 2: Devide into Different Bins\n",
    "In order to realize replication"
   ]
  },
  {
   "cell_type": "code",
   "execution_count": 25,
   "metadata": {},
   "outputs": [],
   "source": [
    "np.random.seed(123)"
   ]
  },
  {
   "cell_type": "markdown",
   "metadata": {},
   "source": [
    "Randomly select 20000 rows"
   ]
  },
  {
   "cell_type": "code",
   "execution_count": 26,
   "metadata": {},
   "outputs": [
    {
     "data": {
      "text/plain": [
       "(20000, 17)"
      ]
     },
     "execution_count": 26,
     "metadata": {},
     "output_type": "execute_result"
    }
   ],
   "source": [
    "df = act_173_new.sample(n=20000)\n",
    "df.reset_index(inplace= True)\n",
    "df.shape"
   ]
  },
  {
   "cell_type": "code",
   "execution_count": 27,
   "metadata": {},
   "outputs": [
    {
     "name": "stdout",
     "output_type": "stream",
     "text": [
      "136400.0 3110.76\n"
     ]
    }
   ],
   "source": [
    "print(df[\"ScrollDepth\"].max(), df[\"ScrollDepth\"].mean())"
   ]
  },
  {
   "cell_type": "code",
   "execution_count": 28,
   "metadata": {},
   "outputs": [
    {
     "data": {
      "image/png": "[encoded data removed]",
      "text/plain": [
       "<Figure size 432x360 with 1 Axes>"
      ]
     },
     "metadata": {
      "needs_background": "light"
     },
     "output_type": "display_data"
    }
   ],
   "source": [
    "plt.figure(figsize=(6,5))\n",
    "plt.hist(df[df['ScrollDepth']>0].ScrollDepth , bins='auto')  \n",
    "plt.title(\"Histogram with 'auto' bins\")\n",
    "plt.xlim(0, 60000)\n",
    "plt.show()"
   ]
  },
  {
   "cell_type": "markdown",
   "metadata": {},
   "source": [
    "### 2.1 Add cut_q: qcut ('ScrollDepth']>0): divide up the underlying data into equal sized bins. (quantile cut)"
   ]
  },
  {
   "cell_type": "code",
   "execution_count": 29,
   "metadata": {},
   "outputs": [
    {
     "data": {
      "text/plain": [
       "IntervalIndex([(99.999, 700.0], (700.0, 4200.0], (4200.0, 10900.0], (10900.0, 136400.0]],\n",
       "              closed='right',\n",
       "              dtype='interval[float64]')"
      ]
     },
     "execution_count": 29,
     "metadata": {},
     "output_type": "execute_result"
    }
   ],
   "source": [
    "df1=df[df['ScrollDepth']>0] \n",
    "labels=['1','2','3','4']\n",
    "pd.qcut(df1['ScrollDepth'], 4).cat.categories"
   ]
  },
  {
   "cell_type": "code",
   "execution_count": 30,
   "metadata": {},
   "outputs": [],
   "source": [
    "df1['cut_q'] = pd.qcut(df1['ScrollDepth'], 4, labels=labels)"
   ]
  },
  {
   "cell_type": "code",
   "execution_count": 31,
   "metadata": {},
   "outputs": [
    {
     "data": {
      "text/plain": [
       "Index(['0', '1', '2', '3', '4'], dtype='object')"
      ]
     },
     "execution_count": 31,
     "metadata": {},
     "output_type": "execute_result"
    }
   ],
   "source": [
    "df['cut_q']=df1['cut_q']\n",
    "cut_q_without_na = df['cut_q'].cat.add_categories('0').fillna('0')\n",
    "cut_q_without_na = cut_q_without_na.cat.reorder_categories(new_categories=['0', '1', '2', '3', '4'],ordered=True)\n",
    "cut_q_without_na.cat.categories"
   ]
  },
  {
   "cell_type": "code",
   "execution_count": 32,
   "metadata": {},
   "outputs": [
    {
     "data": {
      "text/plain": [
       "0    12762\n",
       "1     1939\n",
       "3     1811\n",
       "4     1794\n",
       "2     1694\n",
       "Name: cut_q, dtype: int64"
      ]
     },
     "execution_count": 32,
     "metadata": {},
     "output_type": "execute_result"
    }
   ],
   "source": [
    "df['cut_q'] = cut_q_without_na\n",
    "df['cut_q'].value_counts()"
   ]
  },
  {
   "cell_type": "code",
   "execution_count": 33,
   "metadata": {},
   "outputs": [
    {
     "data": {
      "text/plain": [
       "{'0': 'No value',\n",
       " '1': '99.999-700.0',\n",
       " '2': '700.0-4200.0',\n",
       " '3': '4200.0-10900.0',\n",
       " '4': '10900.0-136400.0'}"
      ]
     },
     "execution_count": 33,
     "metadata": {},
     "output_type": "execute_result"
    }
   ],
   "source": [
    "dic_cut_q= {'0': 'No value', '1': '99.999-700.0', '2': '700.0-4200.0', '3':'4200.0-10900.0', '4':'10900.0-136400.0'}\n",
    "dic_cut_q"
   ]
  },
  {
   "cell_type": "markdown",
   "metadata": {},
   "source": [
    "### 2.2 Add cut_d: cut base on the distance of each bin (pd.cut)"
   ]
  },
  {
   "cell_type": "code",
   "execution_count": 34,
   "metadata": {},
   "outputs": [
    {
     "data": {
      "text/html": [
       "<div>\n",
       "<style scoped>\n",
       "    .dataframe tbody tr th:only-of-type {\n",
       "        vertical-align: middle;\n",
       "    }\n",
       "\n",
       "    .dataframe tbody tr th {\n",
       "        vertical-align: top;\n",
       "    }\n",
       "\n",
       "    .dataframe thead th {\n",
       "        text-align: right;\n",
       "    }\n",
       "</style>\n",
       "<table border=\"1\" class=\"dataframe\">\n",
       "  <thead>\n",
       "    <tr style=\"text-align: right;\">\n",
       "      <th></th>\n",
       "      <th>index</th>\n",
       "      <th>InfinityID</th>\n",
       "      <th>UUID</th>\n",
       "      <th>Brand</th>\n",
       "      <th>Channel</th>\n",
       "      <th>Author</th>\n",
       "      <th>Category</th>\n",
       "      <th>ArticleTitle</th>\n",
       "      <th>Location</th>\n",
       "      <th>Country</th>\n",
       "      <th>HalKeyword</th>\n",
       "      <th>ScrollDepth</th>\n",
       "      <th>Browser</th>\n",
       "      <th>ScrollDepth_count</th>\n",
       "      <th>Referer</th>\n",
       "      <th>Author1</th>\n",
       "      <th>gender</th>\n",
       "      <th>cut_q</th>\n",
       "    </tr>\n",
       "  </thead>\n",
       "  <tbody>\n",
       "    <tr>\n",
       "      <th>0</th>\n",
       "      <td>2241400</td>\n",
       "      <td>ba825bbc-9a1c-4661-8256-fcee9595c0c9</td>\n",
       "      <td>d589330e-8acd-47ce-b60b-d80a871dddd0</td>\n",
       "      <td>bon-appetit</td>\n",
       "      <td>recipes</td>\n",
       "      <td>'bon appétit'</td>\n",
       "      <td>general</td>\n",
       "      <td>55 Bean Recipes You'll Be Making All Year Long</td>\n",
       "      <td>White Plains</td>\n",
       "      <td>United States</td>\n",
       "      <td>bean</td>\n",
       "      <td>0.0</td>\n",
       "      <td>Mobile Safari</td>\n",
       "      <td>0</td>\n",
       "      <td>google</td>\n",
       "      <td>'bon appétit'</td>\n",
       "      <td>andy</td>\n",
       "      <td>0</td>\n",
       "    </tr>\n",
       "    <tr>\n",
       "      <th>1</th>\n",
       "      <td>1292526</td>\n",
       "      <td>6b7105d9-5787-45ab-8496-86e88ac74cc2</td>\n",
       "      <td>b1a6872b-4af3-4016-8b7f-231578e9b198</td>\n",
       "      <td>epicurious</td>\n",
       "      <td>recipes</td>\n",
       "      <td></td>\n",
       "      <td>general</td>\n",
       "      <td>CABBAGE SOUP ETC</td>\n",
       "      <td>Wantagh</td>\n",
       "      <td>United States</td>\n",
       "      <td></td>\n",
       "      <td>0.0</td>\n",
       "      <td>Chrome Mobile</td>\n",
       "      <td>0</td>\n",
       "      <td>android_app</td>\n",
       "      <td></td>\n",
       "      <td>unknown</td>\n",
       "      <td>0</td>\n",
       "    </tr>\n",
       "    <tr>\n",
       "      <th>2</th>\n",
       "      <td>2478318</td>\n",
       "      <td>cde2d845-1a2b-45f5-97fa-e4621e294140</td>\n",
       "      <td>4ae1ced9-4b3a-4827-9653-04e0563cf542</td>\n",
       "      <td>vanity-fair</td>\n",
       "      <td>news</td>\n",
       "      <td>'tina nguyen'</td>\n",
       "      <td>general</td>\n",
       "      <td>Nancy Pelosi Pulls Rank, Suspends Trump’s Stat...</td>\n",
       "      <td>Asbury Park</td>\n",
       "      <td>United States</td>\n",
       "      <td>nancy pelosi,state of the union address,donald...</td>\n",
       "      <td>0.0</td>\n",
       "      <td>Mobile Safari UI/WKWebView</td>\n",
       "      <td>0</td>\n",
       "      <td>facebook</td>\n",
       "      <td>'tina nguyen'</td>\n",
       "      <td>female</td>\n",
       "      <td>0</td>\n",
       "    </tr>\n",
       "  </tbody>\n",
       "</table>\n",
       "</div>"
      ],
      "text/plain": [
       "     index                            InfinityID  \\\n",
       "0  2241400  ba825bbc-9a1c-4661-8256-fcee9595c0c9   \n",
       "1  1292526  6b7105d9-5787-45ab-8496-86e88ac74cc2   \n",
       "2  2478318  cde2d845-1a2b-45f5-97fa-e4621e294140   \n",
       "\n",
       "                                   UUID        Brand  Channel         Author  \\\n",
       "0  d589330e-8acd-47ce-b60b-d80a871dddd0  bon-appetit  recipes  'bon appétit'   \n",
       "1  b1a6872b-4af3-4016-8b7f-231578e9b198   epicurious  recipes                  \n",
       "2  4ae1ced9-4b3a-4827-9653-04e0563cf542  vanity-fair     news  'tina nguyen'   \n",
       "\n",
       "  Category                                       ArticleTitle      Location  \\\n",
       "0  general     55 Bean Recipes You'll Be Making All Year Long  White Plains   \n",
       "1  general                                   CABBAGE SOUP ETC       Wantagh   \n",
       "2  general  Nancy Pelosi Pulls Rank, Suspends Trump’s Stat...   Asbury Park   \n",
       "\n",
       "         Country                                         HalKeyword  \\\n",
       "0  United States                                               bean   \n",
       "1  United States                                                      \n",
       "2  United States  nancy pelosi,state of the union address,donald...   \n",
       "\n",
       "   ScrollDepth                     Browser  ScrollDepth_count      Referer  \\\n",
       "0          0.0               Mobile Safari                  0       google   \n",
       "1          0.0               Chrome Mobile                  0  android_app   \n",
       "2          0.0  Mobile Safari UI/WKWebView                  0     facebook   \n",
       "\n",
       "         Author1   gender cut_q  \n",
       "0  'bon appétit'     andy     0  \n",
       "1                 unknown     0  \n",
       "2  'tina nguyen'   female     0  "
      ]
     },
     "execution_count": 34,
     "metadata": {},
     "output_type": "execute_result"
    }
   ],
   "source": [
    "df.head(n=3)"
   ]
  },
  {
   "cell_type": "markdown",
   "metadata": {},
   "source": [
    "# Part 3 Article Title and HalKeyword Features Extraction\n",
    "### 3.1 clean title"
   ]
  },
  {
   "cell_type": "code",
   "execution_count": 35,
   "metadata": {},
   "outputs": [],
   "source": [
    "# removing everything except alphabets`\n",
    "act_173_new['clean_title'] = act_173_new['ArticleTitle'].str.replace(\"[^a-zA-Z#]\", \" \")\n",
    "# removing short words\n",
    "act_173_new['clean_title'] = act_173_new['clean_title'].apply(lambda x: ' '.join([w for w in x.split() if len(w)>3]))\n",
    "# make all text lowercase\n",
    "act_173_new['clean_title'] = act_173_new['clean_title'].apply(lambda x: x.lower())"
   ]
  },
  {
   "cell_type": "markdown",
   "metadata": {},
   "source": [
    "### 3.2 clean keyword"
   ]
  },
  {
   "cell_type": "code",
   "execution_count": 36,
   "metadata": {},
   "outputs": [],
   "source": [
    "# removing everything except alphabets`\n",
    "act_173_new['clean_keyword'] = act_173_new['HalKeyword'].str.replace(\"[^a-zA-Z#]\", \" \")\n",
    "# removing short words\n",
    "act_173_new['clean_keyword'] = act_173_new['clean_keyword'].apply(lambda x: ' '.join([w for w in x.split() if len(w)>3]))\n",
    "# make all text lowercase\n",
    "act_173_new['clean_keyword'] = act_173_new['clean_keyword'].apply(lambda x: x.lower())"
   ]
  },
  {
   "cell_type": "code",
   "execution_count": 37,
   "metadata": {},
   "outputs": [],
   "source": [
    "act_173_new.drop(['ArticleTitle','HalKeyword'], axis= 1, inplace=True)"
   ]
  },
  {
   "cell_type": "markdown",
   "metadata": {},
   "source": [
    "combine title and keyword to one column"
   ]
  },
  {
   "cell_type": "code",
   "execution_count": 38,
   "metadata": {},
   "outputs": [
    {
     "data": {
      "text/html": [
       "<div>\n",
       "<style scoped>\n",
       "    .dataframe tbody tr th:only-of-type {\n",
       "        vertical-align: middle;\n",
       "    }\n",
       "\n",
       "    .dataframe tbody tr th {\n",
       "        vertical-align: top;\n",
       "    }\n",
       "\n",
       "    .dataframe thead th {\n",
       "        text-align: right;\n",
       "    }\n",
       "</style>\n",
       "<table border=\"1\" class=\"dataframe\">\n",
       "  <thead>\n",
       "    <tr style=\"text-align: right;\">\n",
       "      <th></th>\n",
       "      <th>InfinityID</th>\n",
       "      <th>UUID</th>\n",
       "      <th>Brand</th>\n",
       "      <th>Channel</th>\n",
       "      <th>Author</th>\n",
       "      <th>Category</th>\n",
       "      <th>Location</th>\n",
       "      <th>Country</th>\n",
       "      <th>ScrollDepth</th>\n",
       "      <th>Browser</th>\n",
       "      <th>ScrollDepth_count</th>\n",
       "      <th>Referer</th>\n",
       "      <th>Author1</th>\n",
       "      <th>gender</th>\n",
       "      <th>clean_title</th>\n",
       "      <th>clean_keyword</th>\n",
       "      <th>text</th>\n",
       "    </tr>\n",
       "  </thead>\n",
       "  <tbody>\n",
       "    <tr>\n",
       "      <th>0</th>\n",
       "      <td>00000fa3-c23a-4f68-9f45-4ed4762546f7</td>\n",
       "      <td>jj8PvuxZra52k98JGtBgHtM62YxZYij1eZAQ6a85SEphZq...</td>\n",
       "      <td>brides</td>\n",
       "      <td>registry</td>\n",
       "      <td></td>\n",
       "      <td>amp</td>\n",
       "      <td>La Mesa</td>\n",
       "      <td>United States</td>\n",
       "      <td>0.0</td>\n",
       "      <td>Mobile Safari</td>\n",
       "      <td>0</td>\n",
       "      <td>google</td>\n",
       "      <td></td>\n",
       "      <td>unknown</td>\n",
       "      <td>honeymoon registry sites brides should know</td>\n",
       "      <td></td>\n",
       "      <td>honeymoon registry sites brides should know</td>\n",
       "    </tr>\n",
       "    <tr>\n",
       "      <th>1</th>\n",
       "      <td>00004d7b-7dcf-4f46-b182-fbea50cdc944</td>\n",
       "      <td>D3MzT5UmCJUcHHohAi3G7nkAOb8sPff4wIjGo3U5Y4H5uy...</td>\n",
       "      <td>vanity-fair</td>\n",
       "      <td>hollywood</td>\n",
       "      <td></td>\n",
       "      <td>amp</td>\n",
       "      <td>Tulsa</td>\n",
       "      <td>United States</td>\n",
       "      <td>0.0</td>\n",
       "      <td>Mobile Safari</td>\n",
       "      <td>0</td>\n",
       "      <td>google</td>\n",
       "      <td></td>\n",
       "      <td>unknown</td>\n",
       "      <td>crown queen elizabeth surprising downton abbey...</td>\n",
       "      <td></td>\n",
       "      <td>crown queen elizabeth surprising downton abbey...</td>\n",
       "    </tr>\n",
       "    <tr>\n",
       "      <th>2</th>\n",
       "      <td>00005714-7c5d-4dbd-87c3-b8b8ed9f5210</td>\n",
       "      <td>861f40d5-82e3-4e34-b935-ea839232e786</td>\n",
       "      <td>vogue</td>\n",
       "      <td>beauty</td>\n",
       "      <td>'jenna rennert'</td>\n",
       "      <td>general</td>\n",
       "      <td>Broken Arrow</td>\n",
       "      <td>United States</td>\n",
       "      <td>0.0</td>\n",
       "      <td>Facebook</td>\n",
       "      <td>0</td>\n",
       "      <td>facebook</td>\n",
       "      <td>'jenna rennert'</td>\n",
       "      <td>female</td>\n",
       "      <td>best body lotions restore hydrate smooth skin</td>\n",
       "      <td>lotion supercharged self care shea butter exfo...</td>\n",
       "      <td>best body lotions restore hydrate smooth skin ...</td>\n",
       "    </tr>\n",
       "    <tr>\n",
       "      <th>3</th>\n",
       "      <td>00006751-5292-43d2-8b24-e94c52a64cb3</td>\n",
       "      <td>44ee0aca-7af1-49fc-98af-d672eef7d76a</td>\n",
       "      <td>allure</td>\n",
       "      <td>skin</td>\n",
       "      <td>'sarah kinonen'</td>\n",
       "      <td>general</td>\n",
       "      <td>Richmond</td>\n",
       "      <td>United States</td>\n",
       "      <td>1100.0</td>\n",
       "      <td>Mobile Safari</td>\n",
       "      <td>1</td>\n",
       "      <td>google</td>\n",
       "      <td>'sarah kinonen'</td>\n",
       "      <td>female</td>\n",
       "      <td>earlobe reconstruction surgery repair stretche...</td>\n",
       "      <td>earlobe lobe sandra reconstruction surgery</td>\n",
       "      <td>earlobe reconstruction surgery repair stretche...</td>\n",
       "    </tr>\n",
       "    <tr>\n",
       "      <th>4</th>\n",
       "      <td>00006751-5292-43d2-8b24-e94c52a64cb3</td>\n",
       "      <td>f4514104-6715-4f4f-bc5b-04ed8826419f</td>\n",
       "      <td>allure</td>\n",
       "      <td>skin</td>\n",
       "      <td>'sarah kinonen'</td>\n",
       "      <td>general</td>\n",
       "      <td>Richmond</td>\n",
       "      <td>United States</td>\n",
       "      <td>0.0</td>\n",
       "      <td>Mobile Safari</td>\n",
       "      <td>0</td>\n",
       "      <td>google</td>\n",
       "      <td>'sarah kinonen'</td>\n",
       "      <td>female</td>\n",
       "      <td>earlobe reconstruction surgery repair stretche...</td>\n",
       "      <td>earlobe lobe sandra reconstruction surgery</td>\n",
       "      <td>earlobe reconstruction surgery repair stretche...</td>\n",
       "    </tr>\n",
       "  </tbody>\n",
       "</table>\n",
       "</div>"
      ],
      "text/plain": [
       "                             InfinityID  \\\n",
       "0  00000fa3-c23a-4f68-9f45-4ed4762546f7   \n",
       "1  00004d7b-7dcf-4f46-b182-fbea50cdc944   \n",
       "2  00005714-7c5d-4dbd-87c3-b8b8ed9f5210   \n",
       "3  00006751-5292-43d2-8b24-e94c52a64cb3   \n",
       "4  00006751-5292-43d2-8b24-e94c52a64cb3   \n",
       "\n",
       "                                                UUID        Brand    Channel  \\\n",
       "0  jj8PvuxZra52k98JGtBgHtM62YxZYij1eZAQ6a85SEphZq...       brides   registry   \n",
       "1  D3MzT5UmCJUcHHohAi3G7nkAOb8sPff4wIjGo3U5Y4H5uy...  vanity-fair  hollywood   \n",
       "2               861f40d5-82e3-4e34-b935-ea839232e786        vogue     beauty   \n",
       "3               44ee0aca-7af1-49fc-98af-d672eef7d76a       allure       skin   \n",
       "4               f4514104-6715-4f4f-bc5b-04ed8826419f       allure       skin   \n",
       "\n",
       "            Author Category      Location        Country  ScrollDepth  \\\n",
       "0                       amp       La Mesa  United States          0.0   \n",
       "1                       amp         Tulsa  United States          0.0   \n",
       "2  'jenna rennert'  general  Broken Arrow  United States          0.0   \n",
       "3  'sarah kinonen'  general      Richmond  United States       1100.0   \n",
       "4  'sarah kinonen'  general      Richmond  United States          0.0   \n",
       "\n",
       "         Browser  ScrollDepth_count   Referer          Author1   gender  \\\n",
       "0  Mobile Safari                  0    google                   unknown   \n",
       "1  Mobile Safari                  0    google                   unknown   \n",
       "2       Facebook                  0  facebook  'jenna rennert'   female   \n",
       "3  Mobile Safari                  1    google  'sarah kinonen'   female   \n",
       "4  Mobile Safari                  0    google  'sarah kinonen'   female   \n",
       "\n",
       "                                         clean_title  \\\n",
       "0        honeymoon registry sites brides should know   \n",
       "1  crown queen elizabeth surprising downton abbey...   \n",
       "2      best body lotions restore hydrate smooth skin   \n",
       "3  earlobe reconstruction surgery repair stretche...   \n",
       "4  earlobe reconstruction surgery repair stretche...   \n",
       "\n",
       "                                       clean_keyword  \\\n",
       "0                                                      \n",
       "1                                                      \n",
       "2  lotion supercharged self care shea butter exfo...   \n",
       "3         earlobe lobe sandra reconstruction surgery   \n",
       "4         earlobe lobe sandra reconstruction surgery   \n",
       "\n",
       "                                                text  \n",
       "0       honeymoon registry sites brides should know   \n",
       "1  crown queen elizabeth surprising downton abbey...  \n",
       "2  best body lotions restore hydrate smooth skin ...  \n",
       "3  earlobe reconstruction surgery repair stretche...  \n",
       "4  earlobe reconstruction surgery repair stretche...  "
      ]
     },
     "execution_count": 38,
     "metadata": {},
     "output_type": "execute_result"
    }
   ],
   "source": [
    "act_173_new['text']= act_173_new['clean_title'] + ' ' + act_173_new['clean_keyword']\n",
    "act_173_new.head()"
   ]
  },
  {
   "cell_type": "code",
   "execution_count": 42,
   "metadata": {},
   "outputs": [],
   "source": [
    "act_173_new.to_csv(\"173_clean.csv\",index=False,header=True)"
   ]
  },
  {
   "cell_type": "markdown",
   "metadata": {},
   "source": [
    "# Part 4 Prepare AUC data and COEFF data"
   ]
  },
  {
   "cell_type": "code",
   "execution_count": 47,
   "metadata": {},
   "outputs": [],
   "source": [
    "csv_dir = 'auc_table/'\n",
    "file_list = [os.path.join(csv_dir, f) for f in os.listdir(csv_dir)]\n",
    "auc = []\n",
    "for l in file_list:\n",
    "    data = pd.read_csv(l)\n",
    "    auc.append(data)\n",
    "auc = pd.concat(auc)"
   ]
  },
  {
   "cell_type": "code",
   "execution_count": 48,
   "metadata": {},
   "outputs": [],
   "source": [
    "csv_dir = 'model_coef/'\n",
    "file_list = [os.path.join(csv_dir, f) for f in os.listdir(csv_dir)]\n",
    "coeff = []\n",
    "for l in file_list:\n",
    "    data = pd.read_csv(l)\n",
    "    coeff.append(data)\n",
    "coeff = pd.concat(coeff)"
   ]
  },
  {
   "cell_type": "code",
   "execution_count": 49,
   "metadata": {
    "scrolled": true
   },
   "outputs": [
    {
     "data": {
      "text/plain": [
       "<bound method NDFrame.head of           Date                           model  \\\n",
       "0   2019-03-26   best model for regparam=1e-06   \n",
       "1   2019-03-26   best model for regparam=1e-05   \n",
       "2   2019-03-26  best model for regparam=0.0001   \n",
       "3   2019-03-26   best model for regparam=0.001   \n",
       "4   2019-03-26    best model for regparam=0.01   \n",
       "5   2019-03-26             best model regparam   \n",
       "6   2019-03-26    model auc for best reg param   \n",
       "7   2019-03-26          best model on training   \n",
       "8   2019-03-26      best model on full dataset   \n",
       "9   2019-03-26      best model on all us users   \n",
       "0   2019-01-10   best model for regparam=1e-06   \n",
       "1   2019-01-10   best model for regparam=1e-05   \n",
       "2   2019-01-10  best model for regparam=0.0001   \n",
       "3   2019-01-10   best model for regparam=0.001   \n",
       "4   2019-01-10    best model for regparam=0.01   \n",
       "5   2019-01-10             best model regparam   \n",
       "6   2019-01-10    model auc for best reg param   \n",
       "7   2019-01-10          best model on training   \n",
       "8   2019-01-10      best model on full dataset   \n",
       "9   2019-01-10      best model on all us users   \n",
       "0   2019-03-11   best model for regparam=1e-06   \n",
       "1   2019-03-11   best model for regparam=1e-05   \n",
       "2   2019-03-11  best model for regparam=0.0001   \n",
       "3   2019-03-11   best model for regparam=0.001   \n",
       "4   2019-03-11    best model for regparam=0.01   \n",
       "5   2019-03-11             best model regparam   \n",
       "6   2019-03-11    model auc for best reg param   \n",
       "7   2019-03-11          best model on training   \n",
       "8   2019-03-11      best model on full dataset   \n",
       "9   2019-03-11      best model on all us users   \n",
       "..         ...                             ...   \n",
       "0   2019-02-04   best model for regparam=1e-06   \n",
       "1   2019-02-04   best model for regparam=1e-05   \n",
       "2   2019-02-04  best model for regparam=0.0001   \n",
       "3   2019-02-04   best model for regparam=0.001   \n",
       "4   2019-02-04    best model for regparam=0.01   \n",
       "5   2019-02-04             best model regparam   \n",
       "6   2019-02-04    model auc for best reg param   \n",
       "7   2019-02-04          best model on training   \n",
       "8   2019-02-04      best model on full dataset   \n",
       "9   2019-02-04      best model on all us users   \n",
       "0   2019-01-25   best model for regparam=1e-06   \n",
       "1   2019-01-25   best model for regparam=1e-05   \n",
       "2   2019-01-25  best model for regparam=0.0001   \n",
       "3   2019-01-25   best model for regparam=0.001   \n",
       "4   2019-01-25    best model for regparam=0.01   \n",
       "5   2019-01-25             best model regparam   \n",
       "6   2019-01-25    model auc for best reg param   \n",
       "7   2019-01-25          best model on training   \n",
       "8   2019-01-25      best model on full dataset   \n",
       "9   2019-01-25      best model on all us users   \n",
       "0   2019-01-03   best model for regparam=1e-06   \n",
       "1   2019-01-03   best model for regparam=1e-05   \n",
       "2   2019-01-03  best model for regparam=0.0001   \n",
       "3   2019-01-03   best model for regparam=0.001   \n",
       "4   2019-01-03    best model for regparam=0.01   \n",
       "5   2019-01-03             best model regparam   \n",
       "6   2019-01-03    model auc for best reg param   \n",
       "7   2019-01-03          best model on training   \n",
       "8   2019-01-03      best model on full dataset   \n",
       "9   2019-01-03      best model on all us users   \n",
       "\n",
       "    response_max_spire_auto_luxury_AUC  \\\n",
       "0                             0.809671   \n",
       "1                             0.809192   \n",
       "2                             0.827636   \n",
       "3                             0.818111   \n",
       "4                             0.500000   \n",
       "5                             0.000100   \n",
       "6                             0.827636   \n",
       "7                             0.827636   \n",
       "8                             0.835849   \n",
       "9                             0.835849   \n",
       "0                             0.612410   \n",
       "1                             0.612944   \n",
       "2                             0.613023   \n",
       "3                             0.607061   \n",
       "4                             0.559687   \n",
       "5                             0.000100   \n",
       "6                             0.613023   \n",
       "7                             0.613023   \n",
       "8                             0.615789   \n",
       "9                             0.615789   \n",
       "0                             0.809146   \n",
       "1                             0.809540   \n",
       "2                             0.820381   \n",
       "3                             0.810031   \n",
       "4                             0.500000   \n",
       "5                             0.000100   \n",
       "6                             0.820381   \n",
       "7                             0.820381   \n",
       "8                             0.826882   \n",
       "9                             0.826882   \n",
       "..                                 ...   \n",
       "0                             0.655412   \n",
       "1                             0.655483   \n",
       "2                             0.656757   \n",
       "3                             0.654535   \n",
       "4                             0.622420   \n",
       "5                             0.001000   \n",
       "6                             0.654535   \n",
       "7                             0.656757   \n",
       "8                             0.660810   \n",
       "9                             0.660810   \n",
       "0                             0.609619   \n",
       "1                             0.609314   \n",
       "2                             0.609488   \n",
       "3                             0.604606   \n",
       "4                             0.513596   \n",
       "5                             0.000100   \n",
       "6                             0.609488   \n",
       "7                             0.609619   \n",
       "8                             0.616813   \n",
       "9                             0.616813   \n",
       "0                             0.612609   \n",
       "1                             0.613019   \n",
       "2                             0.612770   \n",
       "3                             0.606242   \n",
       "4                             0.559714   \n",
       "5                             0.000100   \n",
       "6                             0.612770   \n",
       "7                             0.613019   \n",
       "8                             0.617689   \n",
       "9                             0.617689   \n",
       "\n",
       "    response_max_spire_fashion_luxuryjewelry_AUC  \\\n",
       "0                                       0.642732   \n",
       "1                                       0.643523   \n",
       "2                                       0.645772   \n",
       "3                                       0.636119   \n",
       "4                                       0.500000   \n",
       "5                                       0.000100   \n",
       "6                                       0.645772   \n",
       "7                                       0.645772   \n",
       "8                                       0.662945   \n",
       "9                                       0.662945   \n",
       "0                                       0.653370   \n",
       "1                                       0.653225   \n",
       "2                                       0.654300   \n",
       "3                                       0.651842   \n",
       "4                                       0.529010   \n",
       "5                                       0.001000   \n",
       "6                                       0.651842   \n",
       "7                                       0.654300   \n",
       "8                                       0.659493   \n",
       "9                                       0.659493   \n",
       "0                                       0.689548   \n",
       "1                                       0.694416   \n",
       "2                                       0.699007   \n",
       "3                                       0.673241   \n",
       "4                                       0.500000   \n",
       "5                                       0.000100   \n",
       "6                                       0.699007   \n",
       "7                                       0.699007   \n",
       "8                                       0.713531   \n",
       "9                                       0.713531   \n",
       "..                                           ...   \n",
       "0                                       0.644923   \n",
       "1                                       0.645168   \n",
       "2                                       0.647335   \n",
       "3                                       0.635392   \n",
       "4                                       0.500000   \n",
       "5                                       0.000100   \n",
       "6                                       0.647335   \n",
       "7                                       0.647335   \n",
       "8                                       0.660918   \n",
       "9                                       0.660918   \n",
       "0                                       0.648869   \n",
       "1                                       0.648843   \n",
       "2                                       0.649574   \n",
       "3                                       0.646317   \n",
       "4                                       0.555372   \n",
       "5                                       0.001000   \n",
       "6                                       0.646317   \n",
       "7                                       0.649574   \n",
       "8                                       0.656036   \n",
       "9                                       0.656036   \n",
       "0                                       0.748409   \n",
       "1                                       0.747317   \n",
       "2                                       0.750508   \n",
       "3                                       0.722462   \n",
       "4                                       0.500000   \n",
       "5                                       0.000100   \n",
       "6                                       0.750508   \n",
       "7                                       0.750508   \n",
       "8                                       0.765008   \n",
       "9                                       0.765008   \n",
       "\n",
       "    response_max_spire_fashion_luxurymale_AUC  \\\n",
       "0                                    0.674121   \n",
       "1                                    0.674148   \n",
       "2                                    0.681549   \n",
       "3                                    0.653202   \n",
       "4                                    0.500000   \n",
       "5                                    0.000100   \n",
       "6                                    0.681549   \n",
       "7                                    0.681549   \n",
       "8                                    0.701587   \n",
       "9                                    0.701587   \n",
       "0                                    0.847065   \n",
       "1                                    0.850271   \n",
       "2                                    0.864763   \n",
       "3                                    0.851574   \n",
       "4                                    0.733248   \n",
       "5                                    0.000100   \n",
       "6                                    0.864763   \n",
       "7                                    0.864763   \n",
       "8                                    0.875183   \n",
       "9                                    0.875183   \n",
       "0                                    0.643502   \n",
       "1                                    0.643189   \n",
       "2                                    0.644271   \n",
       "3                                    0.635831   \n",
       "4                                    0.500000   \n",
       "5                                    0.000100   \n",
       "6                                    0.644271   \n",
       "7                                    0.644271   \n",
       "8                                    0.660987   \n",
       "9                                    0.660987   \n",
       "..                                        ...   \n",
       "0                                    0.666846   \n",
       "1                                    0.669609   \n",
       "2                                    0.669881   \n",
       "3                                    0.644571   \n",
       "4                                    0.500000   \n",
       "5                                    0.000100   \n",
       "6                                    0.669881   \n",
       "7                                    0.669881   \n",
       "8                                    0.698389   \n",
       "9                                    0.698389   \n",
       "0                                    0.888555   \n",
       "1                                    0.892643   \n",
       "2                                    0.907553   \n",
       "3                                    0.889269   \n",
       "4                                    0.500000   \n",
       "5                                    0.000100   \n",
       "6                                    0.907553   \n",
       "7                                    0.907553   \n",
       "8                                    0.921239   \n",
       "9                                    0.921239   \n",
       "0                                    0.738384   \n",
       "1                                    0.738652   \n",
       "2                                    0.738825   \n",
       "3                                    0.728195   \n",
       "4                                    0.500000   \n",
       "5                                    0.000100   \n",
       "6                                    0.738825   \n",
       "7                                    0.738825   \n",
       "8                                    0.745894   \n",
       "9                                    0.745894   \n",
       "\n",
       "    response_max_spire_fashion_luxuryretail_AUC  \\\n",
       "0                                      0.764689   \n",
       "1                                      0.763472   \n",
       "2                                      0.764774   \n",
       "3                                      0.751999   \n",
       "4                                      0.500000   \n",
       "5                                      0.000100   \n",
       "6                                      0.764774   \n",
       "7                                      0.764774   \n",
       "8                                      0.770286   \n",
       "9                                      0.770286   \n",
       "0                                      0.689237   \n",
       "1                                      0.688730   \n",
       "2                                      0.689526   \n",
       "3                                      0.683236   \n",
       "4                                      0.553615   \n",
       "5                                      0.000100   \n",
       "6                                      0.689526   \n",
       "7                                      0.689526   \n",
       "8                                      0.698730   \n",
       "9                                      0.698730   \n",
       "0                                      0.677213   \n",
       "1                                      0.677891   \n",
       "2                                      0.679406   \n",
       "3                                      0.652533   \n",
       "4                                      0.500000   \n",
       "5                                      0.000100   \n",
       "6                                      0.679406   \n",
       "7                                      0.679406   \n",
       "8                                      0.704375   \n",
       "9                                      0.704375   \n",
       "..                                          ...   \n",
       "0                                      0.766381   \n",
       "1                                      0.766621   \n",
       "2                                      0.766057   \n",
       "3                                      0.751544   \n",
       "4                                      0.500000   \n",
       "5                                      0.000100   \n",
       "6                                      0.766057   \n",
       "7                                      0.766621   \n",
       "8                                      0.771296   \n",
       "9                                      0.771296   \n",
       "0                                      0.691332   \n",
       "1                                      0.691673   \n",
       "2                                      0.692332   \n",
       "3                                      0.685620   \n",
       "4                                      0.554736   \n",
       "5                                      0.000100   \n",
       "6                                      0.692332   \n",
       "7                                      0.692332   \n",
       "8                                      0.700242   \n",
       "9                                      0.700242   \n",
       "0                                      0.537416   \n",
       "1                                      0.537208   \n",
       "2                                      0.539526   \n",
       "3                                      0.542435   \n",
       "4                                      0.500000   \n",
       "5                                      0.001000   \n",
       "6                                      0.542435   \n",
       "7                                      0.542435   \n",
       "8                                      0.544020   \n",
       "9                                      0.544020   \n",
       "\n",
       "    response_max_spire_fashion_luxurywatch_AUC  \n",
       "0                                     0.631401  \n",
       "1                                     0.632781  \n",
       "2                                     0.634132  \n",
       "3                                     0.601626  \n",
       "4                                     0.500000  \n",
       "5                                     0.000100  \n",
       "6                                     0.634132  \n",
       "7                                     0.634132  \n",
       "8                                     0.656488  \n",
       "9                                     0.656488  \n",
       "0                                     0.644465  \n",
       "1                                     0.645722  \n",
       "2                                     0.648074  \n",
       "3                                     0.625892  \n",
       "4                                     0.500000  \n",
       "5                                     0.000100  \n",
       "6                                     0.648074  \n",
       "7                                     0.648074  \n",
       "8                                     0.664163  \n",
       "9                                     0.664163  \n",
       "0                                     0.764731  \n",
       "1                                     0.764944  \n",
       "2                                     0.764548  \n",
       "3                                     0.750482  \n",
       "4                                     0.500000  \n",
       "5                                     0.000100  \n",
       "6                                     0.764548  \n",
       "7                                     0.764944  \n",
       "8                                     0.775755  \n",
       "9                                     0.775755  \n",
       "..                                         ...  \n",
       "0                                     0.627453  \n",
       "1                                     0.627024  \n",
       "2                                     0.632882  \n",
       "3                                     0.596762  \n",
       "4                                     0.500000  \n",
       "5                                     0.000100  \n",
       "6                                     0.632882  \n",
       "7                                     0.632882  \n",
       "8                                     0.664244  \n",
       "9                                     0.664244  \n",
       "0                                     0.642995  \n",
       "1                                     0.643896  \n",
       "2                                     0.646990  \n",
       "3                                     0.625733  \n",
       "4                                     0.500000  \n",
       "5                                     0.000100  \n",
       "6                                     0.646990  \n",
       "7                                     0.646990  \n",
       "8                                     0.666710  \n",
       "9                                     0.666710  \n",
       "0                                     0.690941  \n",
       "1                                     0.692000  \n",
       "2                                     0.693849  \n",
       "3                                     0.688869  \n",
       "4                                     0.662982  \n",
       "5                                     0.001000  \n",
       "6                                     0.688869  \n",
       "7                                     0.693849  \n",
       "8                                     0.704630  \n",
       "9                                     0.704630  \n",
       "\n",
       "[250 rows x 7 columns]>"
      ]
     },
     "execution_count": 49,
     "metadata": {},
     "output_type": "execute_result"
    }
   ],
   "source": [
    "auc.head"
   ]
  },
  {
   "cell_type": "code",
   "execution_count": 50,
   "metadata": {
    "scrolled": true
   },
   "outputs": [
    {
     "data": {
      "text/plain": [
       "<bound method NDFrame.head of             Date                                           variable  \\\n",
       "0     2019-03-26                                        topic_0_bin   \n",
       "1     2019-03-26                                        topic_1_bin   \n",
       "2     2019-03-26                                       topic_10_bin   \n",
       "3     2019-03-26                                      topic_100_bin   \n",
       "4     2019-03-26                                      topic_101_bin   \n",
       "5     2019-03-26                                      topic_102_bin   \n",
       "6     2019-03-26                                      topic_103_bin   \n",
       "7     2019-03-26                                      topic_104_bin   \n",
       "8     2019-03-26                                      topic_105_bin   \n",
       "9     2019-03-26                                      topic_106_bin   \n",
       "10    2019-03-26                                      topic_107_bin   \n",
       "11    2019-03-26                                      topic_108_bin   \n",
       "12    2019-03-26                                      topic_109_bin   \n",
       "13    2019-03-26                                       topic_11_bin   \n",
       "14    2019-03-26                                      topic_110_bin   \n",
       "15    2019-03-26                                      topic_111_bin   \n",
       "16    2019-03-26                                      topic_112_bin   \n",
       "17    2019-03-26                                      topic_113_bin   \n",
       "18    2019-03-26                                      topic_114_bin   \n",
       "19    2019-03-26                                      topic_115_bin   \n",
       "20    2019-03-26                                      topic_116_bin   \n",
       "21    2019-03-26                                      topic_117_bin   \n",
       "22    2019-03-26                                      topic_118_bin   \n",
       "23    2019-03-26                                      topic_119_bin   \n",
       "24    2019-03-26                                       topic_12_bin   \n",
       "25    2019-03-26                                      topic_120_bin   \n",
       "26    2019-03-26                                      topic_121_bin   \n",
       "27    2019-03-26                                      topic_122_bin   \n",
       "28    2019-03-26                                      topic_123_bin   \n",
       "29    2019-03-26                                      topic_124_bin   \n",
       "...          ...                                                ...   \n",
       "1076  2019-02-18       zip_OwneroccupiedHousingUnitsPct150000174999   \n",
       "1077  2019-02-18       zip_OwneroccupiedHousingUnitsPct175000199999   \n",
       "1078  2019-02-18       zip_OwneroccupiedHousingUnitsPct200000249999   \n",
       "1079  2019-02-18       zip_OwneroccupiedHousingUnitsPct250000299999   \n",
       "1080  2019-02-18       zip_OwneroccupiedHousingUnitsPct300000399999   \n",
       "1081  2019-02-18       zip_OwneroccupiedHousingUnitsPct400000499999   \n",
       "1082  2019-02-18       zip_OwneroccupiedHousingUnitsPct500000749999   \n",
       "1083  2019-02-18       zip_OwneroccupiedHousingUnitsPct750000999999   \n",
       "1084  2019-02-18          zip_OwneroccupiedHousingUnitsPct50000Plus   \n",
       "1085  2019-02-18          zip_OwneroccupiedHousingUnitsPct80000Plus   \n",
       "1086  2019-02-18         zip_OwneroccupiedHousingUnitsPct100000Plus   \n",
       "1087  2019-02-18         zip_OwneroccupiedHousingUnitsPct150000Plus   \n",
       "1088  2019-02-18         zip_OwneroccupiedHousingUnitsPct200000Plus   \n",
       "1089  2019-02-18         zip_OwneroccupiedHousingUnitsPct500000Plus   \n",
       "1090  2019-02-18        zip_OwneroccupiedHousingUnitsPct1000000Plus   \n",
       "1091  2019-02-18           zip_OwneroccupiedHousingUnitsPctMortgage   \n",
       "1092  2019-02-18  zip_OwneroccupiedHousingUnitsPctSecondMortgage...   \n",
       "1093  2019-02-18  zip_OwneroccupiedHousingUnitsMedianMonthlyOwne...   \n",
       "1094  2019-02-18  zip_OwneroccupiedHousingUnitsMedianMonthlyOwne...   \n",
       "1095  2019-02-18  zip_OwneroccupiedHousingUnitsMedianRealEstateT...   \n",
       "1096  2019-02-18    zip_CivilianNonInstitutionalPopPctWithInsurance   \n",
       "1097  2019-02-18  zip_CivilianNonInstitutionalPopPctWithPrivateI...   \n",
       "1098  2019-02-18  zip_CivilianNonInstitutionalPopPctWithEmployer...   \n",
       "1099  2019-02-18  zip_CivilianNonInstitutionalPopPctWithDirectPu...   \n",
       "1100  2019-02-18  zip_CivilianNonInstitutionalPopPctWithTRICAREI...   \n",
       "1101  2019-02-18  zip_CivilianNonInstitutionalPopPctWithPublicIn...   \n",
       "1102  2019-02-18  zip_CivilianNonInstitutionalPopPctWithMedicare...   \n",
       "1103  2019-02-18  zip_CivilianNonInstitutionalPopPctWithMedicaid...   \n",
       "1104  2019-02-18  zip_CivilianNonInstitutionalPopPctWithVAInsura...   \n",
       "1105  2019-02-18  zip_CivilianNonInstitutionalPopPctWithNoInsurance   \n",
       "\n",
       "      response_max_spire_auto_luxury_model  \\\n",
       "0                                -0.014968   \n",
       "1                                -0.019168   \n",
       "2                                -0.016301   \n",
       "3                                 0.000000   \n",
       "4                                 0.000000   \n",
       "5                                 0.000000   \n",
       "6                                -0.008123   \n",
       "7                                -0.003942   \n",
       "8                                -0.025129   \n",
       "9                                 0.000104   \n",
       "10                               -0.001160   \n",
       "11                                0.000000   \n",
       "12                                0.042691   \n",
       "13                                0.000000   \n",
       "14                               -0.017051   \n",
       "15                                0.083691   \n",
       "16                               -0.003482   \n",
       "17                                0.000000   \n",
       "18                               -0.141091   \n",
       "19                                0.001741   \n",
       "20                                0.155248   \n",
       "21                                0.039803   \n",
       "22                               -0.033043   \n",
       "23                               -0.017537   \n",
       "24                                0.002176   \n",
       "25                                0.068460   \n",
       "26                                0.035449   \n",
       "27                                0.000000   \n",
       "28                               -0.010200   \n",
       "29                                0.054230   \n",
       "...                                    ...   \n",
       "1076                             -0.000457   \n",
       "1077                             -0.001879   \n",
       "1078                             -0.001543   \n",
       "1079                             -0.001368   \n",
       "1080                             -0.000057   \n",
       "1081                              0.000007   \n",
       "1082                              0.000267   \n",
       "1083                              0.000609   \n",
       "1084                              0.000108   \n",
       "1085                              0.000153   \n",
       "1086                              0.000135   \n",
       "1087                              0.000129   \n",
       "1088                              0.000133   \n",
       "1089                              0.000436   \n",
       "1090                              0.001292   \n",
       "1091                             -0.000138   \n",
       "1092                             -0.000112   \n",
       "1093                              0.000008   \n",
       "1094                              0.000016   \n",
       "1095                              0.000002   \n",
       "1096                             -0.000125   \n",
       "1097                             -0.000121   \n",
       "1098                             -0.000295   \n",
       "1099                              0.001854   \n",
       "1100                             -0.000111   \n",
       "1101                              0.000059   \n",
       "1102                              0.000494   \n",
       "1103                             -0.000018   \n",
       "1104                             -0.000272   \n",
       "1105                              0.000598   \n",
       "\n",
       "      response_max_spire_fashion_luxuryjewelry_model  \\\n",
       "0                                          -0.004826   \n",
       "1                                          -0.000843   \n",
       "2                                           0.012069   \n",
       "3                                           0.168562   \n",
       "4                                           0.150790   \n",
       "5                                           0.000000   \n",
       "6                                          -0.009246   \n",
       "7                                          -0.007457   \n",
       "8                                          -0.004633   \n",
       "9                                           0.002591   \n",
       "10                                          0.000000   \n",
       "11                                         -0.061865   \n",
       "12                                          0.000983   \n",
       "13                                         -0.000000   \n",
       "14                                          0.031930   \n",
       "15                                         -0.023121   \n",
       "16                                         -0.018011   \n",
       "17                                          0.000000   \n",
       "18                                         -0.043345   \n",
       "19                                          0.000000   \n",
       "20                                         -0.051613   \n",
       "21                                          0.010905   \n",
       "22                                          0.020194   \n",
       "23                                         -0.011860   \n",
       "24                                          0.023406   \n",
       "25                                         -0.079677   \n",
       "26                                          0.099463   \n",
       "27                                          0.044900   \n",
       "28                                         -0.054156   \n",
       "29                                          0.012932   \n",
       "...                                              ...   \n",
       "1076                                       -0.000212   \n",
       "1077                                       -0.000271   \n",
       "1078                                       -0.000193   \n",
       "1079                                       -0.000134   \n",
       "1080                                       -0.000006   \n",
       "1081                                        0.000423   \n",
       "1082                                        0.000312   \n",
       "1083                                       -0.000000   \n",
       "1084                                        0.000029   \n",
       "1085                                       -0.000007   \n",
       "1086                                       -0.000027   \n",
       "1087                                       -0.000049   \n",
       "1088                                        0.000078   \n",
       "1089                                        0.000052   \n",
       "1090                                       -0.000407   \n",
       "1091                                       -0.000089   \n",
       "1092                                       -0.000126   \n",
       "1093                                        0.000004   \n",
       "1094                                        0.000017   \n",
       "1095                                        0.000004   \n",
       "1096                                        0.000030   \n",
       "1097                                       -0.000002   \n",
       "1098                                        0.000207   \n",
       "1099                                       -0.000070   \n",
       "1100                                        0.000061   \n",
       "1101                                       -0.000216   \n",
       "1102                                       -0.000360   \n",
       "1103                                       -0.000090   \n",
       "1104                                       -0.002096   \n",
       "1105                                       -0.000027   \n",
       "\n",
       "      response_max_spire_fashion_luxurymale_model  \\\n",
       "0                                       -0.025972   \n",
       "1                                        0.000000   \n",
       "2                                       -0.003202   \n",
       "3                                        0.089898   \n",
       "4                                        0.266733   \n",
       "5                                       -0.028263   \n",
       "6                                        0.000000   \n",
       "7                                       -0.065097   \n",
       "8                                       -0.018024   \n",
       "9                                       -0.011086   \n",
       "10                                       0.000000   \n",
       "11                                       0.000000   \n",
       "12                                      -0.021916   \n",
       "13                                       0.026041   \n",
       "14                                      -0.000041   \n",
       "15                                       0.000000   \n",
       "16                                       0.000000   \n",
       "17                                       0.000000   \n",
       "18                                      -0.071665   \n",
       "19                                      -0.103559   \n",
       "20                                       0.000000   \n",
       "21                                       0.084518   \n",
       "22                                      -0.028224   \n",
       "23                                      -0.005931   \n",
       "24                                       0.000000   \n",
       "25                                       0.000000   \n",
       "26                                       0.035410   \n",
       "27                                       0.211468   \n",
       "28                                      -0.006491   \n",
       "29                                       0.103295   \n",
       "...                                           ...   \n",
       "1076                                    -0.000230   \n",
       "1077                                     0.000000   \n",
       "1078                                     0.000004   \n",
       "1079                                     0.000041   \n",
       "1080                                     0.000191   \n",
       "1081                                     0.000457   \n",
       "1082                                     0.000350   \n",
       "1083                                    -0.000069   \n",
       "1084                                     0.000179   \n",
       "1085                                     0.000199   \n",
       "1086                                     0.000182   \n",
       "1087                                     0.000155   \n",
       "1088                                     0.000140   \n",
       "1089                                     0.000091   \n",
       "1090                                    -0.000028   \n",
       "1091                                     0.000015   \n",
       "1092                                     0.000457   \n",
       "1093                                     0.000006   \n",
       "1094                                     0.000019   \n",
       "1095                                     0.000004   \n",
       "1096                                     0.000069   \n",
       "1097                                     0.000095   \n",
       "1098                                     0.000134   \n",
       "1099                                    -0.000277   \n",
       "1100                                     0.000000   \n",
       "1101                                    -0.000200   \n",
       "1102                                    -0.000316   \n",
       "1103                                     0.000018   \n",
       "1104                                    -0.011249   \n",
       "1105                                    -0.000385   \n",
       "\n",
       "      response_max_spire_fashion_luxuryretail_model  \\\n",
       "0                                      4.245162e-02   \n",
       "1                                     -4.279898e-02   \n",
       "2                                      4.033126e-02   \n",
       "3                                      9.828310e-02   \n",
       "4                                      9.670424e-02   \n",
       "5                                      0.000000e+00   \n",
       "6                                     -6.150323e-02   \n",
       "7                                     -8.589932e-03   \n",
       "8                                     -8.348898e-02   \n",
       "9                                      1.896308e-02   \n",
       "10                                    -5.854344e-02   \n",
       "11                                     4.629979e-02   \n",
       "12                                    -4.908399e-02   \n",
       "13                                     8.478538e-02   \n",
       "14                                    -4.159275e-02   \n",
       "15                                    -1.283083e-02   \n",
       "16                                    -1.366990e-01   \n",
       "17                                     0.000000e+00   \n",
       "18                                    -2.936406e-02   \n",
       "19                                    -6.455813e-02   \n",
       "20                                    -8.496819e-03   \n",
       "21                                     5.521252e-02   \n",
       "22                                     4.094181e-02   \n",
       "23                                    -1.767415e-02   \n",
       "24                                     4.330294e-02   \n",
       "25                                    -4.567130e-02   \n",
       "26                                     6.738730e-02   \n",
       "27                                     1.274408e-01   \n",
       "28                                    -4.005366e-02   \n",
       "29                                     1.672614e-01   \n",
       "...                                             ...   \n",
       "1076                                  -1.368685e-05   \n",
       "1077                                  -1.368515e-07   \n",
       "1078                                  -3.984963e-04   \n",
       "1079                                  -7.237336e-04   \n",
       "1080                                  -3.910267e-04   \n",
       "1081                                  -2.111618e-04   \n",
       "1082                                   9.589582e-06   \n",
       "1083                                   9.812632e-05   \n",
       "1084                                  -2.934843e-05   \n",
       "1085                                  -2.767807e-05   \n",
       "1086                                  -2.724312e-05   \n",
       "1087                                  -2.140450e-05   \n",
       "1088                                  -8.372168e-05   \n",
       "1089                                   4.845544e-06   \n",
       "1090                                   3.721337e-05   \n",
       "1091                                  -2.672344e-05   \n",
       "1092                                  -1.637404e-04   \n",
       "1093                                   6.195065e-10   \n",
       "1094                                   1.566452e-06   \n",
       "1095                                  -5.726864e-07   \n",
       "1096                                   2.930094e-05   \n",
       "1097                                  -9.246811e-06   \n",
       "1098                                  -8.613764e-06   \n",
       "1099                                   3.712216e-05   \n",
       "1100                                   1.100559e-04   \n",
       "1101                                   7.291335e-05   \n",
       "1102                                   2.540417e-04   \n",
       "1103                                  -3.848999e-06   \n",
       "1104                                   1.355776e-04   \n",
       "1105                                   3.727125e-05   \n",
       "\n",
       "      response_max_spire_fashion_luxurywatch_model  \n",
       "0                                        -0.019817  \n",
       "1                                         0.000000  \n",
       "2                                        -0.001661  \n",
       "3                                        -0.003227  \n",
       "4                                        -0.008870  \n",
       "5                                         0.000000  \n",
       "6                                         0.000000  \n",
       "7                                        -0.006367  \n",
       "8                                        -0.000365  \n",
       "9                                         0.000000  \n",
       "10                                        0.000000  \n",
       "11                                       -0.024477  \n",
       "12                                       -0.004387  \n",
       "13                                        0.000000  \n",
       "14                                        0.000000  \n",
       "15                                       -0.000315  \n",
       "16                                        0.000000  \n",
       "17                                        2.933068  \n",
       "18                                        0.000000  \n",
       "19                                       -0.001351  \n",
       "20                                        0.000000  \n",
       "21                                        0.000000  \n",
       "22                                        0.000000  \n",
       "23                                        0.000000  \n",
       "24                                        0.000000  \n",
       "25                                        0.000000  \n",
       "26                                        0.080164  \n",
       "27                                       -0.007057  \n",
       "28                                       -0.009566  \n",
       "29                                        0.129712  \n",
       "...                                            ...  \n",
       "1076                                     -0.000443  \n",
       "1077                                     -0.000735  \n",
       "1078                                     -0.000407  \n",
       "1079                                      0.000011  \n",
       "1080                                     -0.000019  \n",
       "1081                                      0.000121  \n",
       "1082                                      0.000186  \n",
       "1083                                      0.000827  \n",
       "1084                                      0.000123  \n",
       "1085                                      0.000094  \n",
       "1086                                      0.000078  \n",
       "1087                                      0.000042  \n",
       "1088                                      0.000053  \n",
       "1089                                      0.000135  \n",
       "1090                                      0.000162  \n",
       "1091                                      0.000067  \n",
       "1092                                     -0.000208  \n",
       "1093                                      0.000006  \n",
       "1094                                      0.000014  \n",
       "1095                                      0.000003  \n",
       "1096                                     -0.000009  \n",
       "1097                                      0.000006  \n",
       "1098                                     -0.000001  \n",
       "1099                                     -0.000003  \n",
       "1100                                      0.000015  \n",
       "1101                                      0.000002  \n",
       "1102                                      0.000057  \n",
       "1103                                     -0.000003  \n",
       "1104                                     -0.001868  \n",
       "1105                                     -0.000057  \n",
       "\n",
       "[27650 rows x 7 columns]>"
      ]
     },
     "execution_count": 50,
     "metadata": {},
     "output_type": "execute_result"
    }
   ],
   "source": [
    "coeff.head"
   ]
  },
  {
   "cell_type": "code",
   "execution_count": 51,
   "metadata": {},
   "outputs": [],
   "source": [
    "auc.to_csv(\"auc.csv\",index=False,header=True)\n",
    "coeff.to_csv(\"coeff.csv\", index = False, header = True)"
   ]
  },
  {
   "cell_type": "code",
   "execution_count": null,
   "metadata": {},
   "outputs": [],
   "source": []
  }
 ],
 "metadata": {
  "kernelspec": {
   "display_name": "Python 3",
   "language": "python",
   "name": "python3"
  },
  "language_info": {
   "codemirror_mode": {
    "name": "ipython",
    "version": 3
   },
   "file_extension": ".py",
   "mimetype": "text/x-python",
   "name": "python",
   "nbconvert_exporter": "python",
   "pygments_lexer": "ipython3",
   "version": "3.7.3"
  }
 },
 "nbformat": 4,
 "nbformat_minor": 2
}
